{
 "cells": [
  {
   "cell_type": "code",
   "execution_count": 2,
   "id": "9114c591",
   "metadata": {},
   "outputs": [],
   "source": [
    "#匯入牌組資料\n",
    "import pandas as pd\n",
    "card_data=pd.read_excel(\"塔羅牌資料.xlsx\")"
   ]
  },
  {
   "cell_type": "code",
   "execution_count": 3,
   "id": "6b600951",
   "metadata": {},
   "outputs": [],
   "source": [
    "#初始抽牌template\n",
    "start={\n",
    "    \"type\": \"buttons\",\n",
    "    \"thumbnailImageUrl\": \"https://i.imgur.com/NQPjz4s.jpg\",\n",
    "    \"imageAspectRatio\": \"square\",\n",
    "    \"imageSize\": \"contain\",\n",
    "    \"imageBackgroundColor\": \"#FFFFFF\",\n",
    "    \"title\": \"小戴塔羅、鐵口直斷\",\n",
    "    \"text\": \"點選下方開始抽牌\",\n",
    "    \"actions\": [\n",
    "      {\n",
    "        \"type\": \"postback\",\n",
    "        \"label\": \"抽牌\",\n",
    "        \"data\": \"抽牌\"\n",
    "      }\n",
    "    ]\n",
    "  }"
   ]
  },
  {
   "cell_type": "code",
   "execution_count": 4,
   "id": "ca01a3f4",
   "metadata": {
    "scrolled": true
   },
   "outputs": [],
   "source": [
    "import random as rd\n",
    "pn=[\"正\",\"逆\"]#positive or negative\n",
    "#抽牌結果[[牌號1,正逆],[牌號2,正逆],[牌號3,正逆]] 1正2逆\n",
    "def draw_cards():\n",
    "    global card_numbers\n",
    "    global card_list\n",
    "    global card\n",
    "    card_list=[]\n",
    "    card_numbers = rd.sample(range(0, 78), 3)#抽三張不重複\n",
    "    for card in card_numbers:\n",
    "        card_list.append([card,rd.randint(1,2)])\n",
    "    print(\"使用者抽牌:\",card_list)\n",
    "    #抽牌結果\n",
    "    card={\n",
    "  \"type\": \"carousel\",\n",
    "  \"contents\":[\n",
    "    {\n",
    "      \"type\": \"bubble\",\n",
    "      \"direction\": \"ltr\",\n",
    "      \"header\": {\n",
    "        \"type\": \"box\",\n",
    "        \"layout\": \"baseline\",\n",
    "        \"contents\": [\n",
    "          {\n",
    "            \"type\": \"text\",\n",
    "            \"text\": \"過去\",\n",
    "            \"color\": \"#FF9D00FF\",\n",
    "            \"align\": \"center\"\n",
    "          }\n",
    "        ]\n",
    "      },\n",
    "      \"hero\": {\n",
    "        \"type\": \"image\",\n",
    "        \"url\": card_data.iat[card_list[0][0],3],\n",
    "        \"size\": \"full\",\n",
    "        \"aspectRatio\": \"1.51:1\",\n",
    "        \"aspectMode\": \"fit\"\n",
    "      },\n",
    "      \"body\": {\n",
    "        \"type\": \"box\",\n",
    "        \"layout\": \"vertical\",\n",
    "        \"contents\": [\n",
    "          {\n",
    "            \"type\": \"text\",\n",
    "            \"text\": card_data.iat[card_list[0][0],0]+pn[card_list[0][1]-1],\n",
    "            \"align\": \"center\"\n",
    "          }\n",
    "        ]\n",
    "      },\n",
    "      \"footer\": {\n",
    "        \"type\": \"box\",\n",
    "        \"layout\": \"horizontal\",\n",
    "        \"contents\": [\n",
    "          {\n",
    "            \"type\": \"button\",\n",
    "            \"action\": {\n",
    "              \"type\": \"postback\",\n",
    "              \"label\": \"觀看牌義\",\n",
    "              \"data\": str(card_list[0][0])\n",
    "            }\n",
    "          }\n",
    "        ]\n",
    "      }\n",
    "    },\n",
    "    {\n",
    "      \"type\": \"bubble\",\n",
    "      \"direction\": \"ltr\",\n",
    "      \"header\": {\n",
    "        \"type\": \"box\",\n",
    "        \"layout\": \"baseline\",\n",
    "        \"contents\": [\n",
    "          {\n",
    "            \"type\": \"text\",\n",
    "            \"text\": \"現在\",\n",
    "            \"color\": \"#FF9D00FF\",\n",
    "            \"align\": \"center\"\n",
    "          }\n",
    "        ]\n",
    "      },\n",
    "      \"hero\": {\n",
    "        \"type\": \"image\",\n",
    "        \"url\": card_data.iat[card_list[1][0],3],\n",
    "        \"size\": \"full\",\n",
    "        \"aspectRatio\": \"1.51:1\",\n",
    "        \"aspectMode\": \"fit\"\n",
    "      },\n",
    "      \"body\": {\n",
    "        \"type\": \"box\",\n",
    "        \"layout\": \"vertical\",\n",
    "        \"contents\": [\n",
    "          {\n",
    "            \"type\": \"text\",\n",
    "            \"text\": card_data.iat[card_list[1][0],0]+pn[card_list[1][1]-1],\n",
    "            \"align\": \"center\"\n",
    "          }\n",
    "        ]\n",
    "      },\n",
    "      \"footer\": {\n",
    "        \"type\": \"box\",\n",
    "        \"layout\": \"horizontal\",\n",
    "        \"contents\": [\n",
    "          {\n",
    "            \"type\": \"button\",\n",
    "            \"action\": {\n",
    "              \"type\": \"postback\",\n",
    "              \"label\": \"觀看牌義\",\n",
    "              \"data\": str(card_list[1][0])\n",
    "            }\n",
    "          }\n",
    "        ]\n",
    "      }\n",
    "    },\n",
    "    {\n",
    "      \"type\": \"bubble\",\n",
    "      \"direction\": \"ltr\",\n",
    "      \"header\": {\n",
    "        \"type\": \"box\",\n",
    "        \"layout\": \"baseline\",\n",
    "        \"contents\": [\n",
    "          {\n",
    "            \"type\": \"text\",\n",
    "            \"text\": \"未來\",\n",
    "            \"color\": \"#FF9D00FF\",\n",
    "            \"align\": \"center\",\n",
    "          }\n",
    "        ]\n",
    "      },\n",
    "      \"hero\": {\n",
    "        \"type\": \"image\",\n",
    "        \"url\": card_data.iat[card_list[2][0],3],\n",
    "        \"size\": \"full\",\n",
    "        \"aspectRatio\": \"1.51:1\",\n",
    "        \"aspectMode\": \"fit\"\n",
    "      },\n",
    "      \"body\": {\n",
    "        \"type\": \"box\",\n",
    "        \"layout\": \"vertical\",\n",
    "        \"contents\": [\n",
    "          {\n",
    "            \"type\": \"text\",\n",
    "            \"text\": card_data.iat[card_list[2][0],0]+pn[card_list[2][1]-1],\n",
    "            \"align\": \"center\"          }\n",
    "        ]\n",
    "      },\n",
    "      \"footer\": {\n",
    "        \"type\": \"box\",\n",
    "        \"layout\": \"horizontal\",\n",
    "        \"contents\": [\n",
    "          {\n",
    "            \"type\": \"button\",\n",
    "            \"action\": {\n",
    "              \"type\": \"postback\",\n",
    "              \"label\": \"觀看牌義\",\n",
    "              \"data\": str(card_list[2][0])\n",
    "            }\n",
    "          }\n",
    "        ]\n",
    "      }\n",
    "    }\n",
    "  ]\n",
    "}"
   ]
  },
  {
   "cell_type": "code",
   "execution_count": null,
   "id": "cc1025e9",
   "metadata": {
    "scrolled": true
   },
   "outputs": [
    {
     "name": "stdout",
     "output_type": "stream",
     "text": [
      " * Serving Flask app '__main__'\n",
      " * Debug mode: off\n"
     ]
    },
    {
     "name": "stderr",
     "output_type": "stream",
     "text": [
      "C:\\Users\\hp\\AppData\\Local\\Temp\\ipykernel_636\\3094302790.py:7: LineBotSdkDeprecatedIn30: Call to deprecated class LineBotApi. (Use v3 class; linebot.v3.<feature>. See https://github.com/line/line-bot-sdk-python/blob/master/README.rst for more details.) -- Deprecated since version 3.0.0.\n",
      "  line_bot_api = LineBotApi('0MTwO+uLC9YQAIsSUu88agU/9o/MxFFa83qF0OPczd/ivnMam25adYe0lMDl7E+lTadbxeC3wYZbjPqTlZM1Ea3aP5kYuxIVTdHHpac8beN7ZA24XnGckQYWTi0Q4Ro9URFdR5lN4BGgM6Zc+W0D1wdB04t89/1O/w1cDnyilFU=')\n",
      "WARNING: This is a development server. Do not use it in a production deployment. Use a production WSGI server instead.\n",
      " * Running on http://127.0.0.1:3000\n",
      "Press CTRL+C to quit\n"
     ]
    },
    {
     "name": "stdout",
     "output_type": "stream",
     "text": [
      "{'destination': 'Ud599aec203f3d52e84ab5ea488f2c69e', 'events': [{'type': 'message', 'message': {'type': 'text', 'id': '501704463732703690', 'quoteToken': 'wNnJsgwl4yxwix3hBjF2Yuk2qQk7_2n1waypqHaca2_XwahJMNn49rWY7F4ubk5bQO2Qp10dG2FFL-aT2obdlx4jkMXmwg90fUQhXYit0aO_DUpQSWRzhwJkXarjoRxystpnkJQq3tEdP_796dihHQ', 'text': '123'}, 'webhookEventId': '01HT9PWQFAEM9RTHT030NH0RFB', 'deliveryContext': {'isRedelivery': False}, 'timestamp': 1711870467448, 'source': {'type': 'user', 'userId': 'U045e09b64fee492ed95edeab7c1481bd'}, 'replyToken': 'b13150fc69004f5bb54a8399a568b649', 'mode': 'active'}]}\n"
     ]
    },
    {
     "name": "stderr",
     "output_type": "stream",
     "text": [
      "C:\\Users\\hp\\AppData\\Local\\Temp\\ipykernel_636\\3094302790.py:17: LineBotSdkDeprecatedIn30: Call to deprecated method reply_message. (Use 'from linebot.v3.messaging import MessagingApi' and 'MessagingApi(...).reply_message(...)' instead. See https://github.com/line/line-bot-sdk-python/blob/master/README.rst for more details.) -- Deprecated since version 3.0.0.\n",
      "  line_bot_api.reply_message(data['events'][0]['replyToken'],\n",
      "127.0.0.1 - - [31/Mar/2024 15:34:27] \"POST / HTTP/1.1\" 200 -\n"
     ]
    },
    {
     "name": "stdout",
     "output_type": "stream",
     "text": [
      "{'destination': 'Ud599aec203f3d52e84ab5ea488f2c69e', 'events': [{'type': 'postback', 'postback': {'data': '抽牌'}, 'webhookEventId': '01HT9PWXZQMXYMMKX2R1QMN0WF', 'deliveryContext': {'isRedelivery': False}, 'timestamp': 1711870473730, 'source': {'type': 'user', 'userId': 'U045e09b64fee492ed95edeab7c1481bd'}, 'replyToken': '9c435089599b4027ac9a4557a1db4cc1', 'mode': 'active'}]}\n",
      "使用者抽牌: [[7, 1], [9, 1], [56, 2]]\n"
     ]
    },
    {
     "name": "stderr",
     "output_type": "stream",
     "text": [
      "C:\\Users\\hp\\AppData\\Local\\Temp\\ipykernel_636\\3094302790.py:22: LineBotSdkDeprecatedIn30: Call to deprecated method reply_message. (Use 'from linebot.v3.messaging import MessagingApi' and 'MessagingApi(...).reply_message(...)' instead. See https://github.com/line/line-bot-sdk-python/blob/master/README.rst for more details.) -- Deprecated since version 3.0.0.\n",
      "  line_bot_api.reply_message(data['events'][0]['replyToken'],\n",
      "127.0.0.1 - - [31/Mar/2024 15:34:34] \"POST / HTTP/1.1\" 200 -\n"
     ]
    },
    {
     "name": "stdout",
     "output_type": "stream",
     "text": [
      "{'destination': 'Ud599aec203f3d52e84ab5ea488f2c69e', 'events': [{'type': 'postback', 'postback': {'data': '56'}, 'webhookEventId': '01HT9PY8BK6D5041XSXP03BZBY', 'deliveryContext': {'isRedelivery': False}, 'timestamp': 1711870517412, 'source': {'type': 'user', 'userId': 'U045e09b64fee492ed95edeab7c1481bd'}, 'replyToken': '9b45705e6c68425b99a875839b845064', 'mode': 'active'}]}\n"
     ]
    },
    {
     "name": "stderr",
     "output_type": "stream",
     "text": [
      "C:\\Users\\hp\\AppData\\Local\\Temp\\ipykernel_636\\3094302790.py:26: LineBotSdkDeprecatedIn30: Call to deprecated method reply_message. (Use 'from linebot.v3.messaging import MessagingApi' and 'MessagingApi(...).reply_message(...)' instead. See https://github.com/line/line-bot-sdk-python/blob/master/README.rst for more details.) -- Deprecated since version 3.0.0.\n",
      "  line_bot_api.reply_message(data['events'][0]['replyToken'],\n",
      "127.0.0.1 - - [31/Mar/2024 15:35:17] \"POST / HTTP/1.1\" 200 -\n"
     ]
    },
    {
     "name": "stdout",
     "output_type": "stream",
     "text": [
      "{'destination': 'Ud599aec203f3d52e84ab5ea488f2c69e', 'events': [{'type': 'message', 'message': {'type': 'text', 'id': '501704565167489463', 'quoteToken': '5t8xZcOQK5zCw5aJcQfSIpkxinRpwxxqCHk9P_b3WD-iXL5pP_IYnqpbRih0Mqlfs_SNyWsj0mVAFRxQTvfyLFTwPhULdUc_8h6gJgzFrNebTZI6ClDYzRNMCZierjVOY_mMOjUDxSQNms3Y_Y636A', 'text': '123'}, 'webhookEventId': '01HT9PYJYB9BB0JB9N72F7KBT1', 'deliveryContext': {'isRedelivery': False}, 'timestamp': 1711870527951, 'source': {'type': 'user', 'userId': 'U045e09b64fee492ed95edeab7c1481bd'}, 'replyToken': '3925dcc98c0b4b258571099f716ee82b', 'mode': 'active'}]}\n"
     ]
    },
    {
     "name": "stderr",
     "output_type": "stream",
     "text": [
      "127.0.0.1 - - [31/Mar/2024 15:35:28] \"POST / HTTP/1.1\" 200 -\n"
     ]
    },
    {
     "name": "stdout",
     "output_type": "stream",
     "text": [
      "{'destination': 'Ud599aec203f3d52e84ab5ea488f2c69e', 'events': [{'type': 'postback', 'postback': {'data': '抽牌'}, 'webhookEventId': '01HT9PZ0BVDPGFYMJN25SCGDR1', 'deliveryContext': {'isRedelivery': False}, 'timestamp': 1711870541831, 'source': {'type': 'user', 'userId': 'U045e09b64fee492ed95edeab7c1481bd'}, 'replyToken': 'e5e8e22877ad4b5d8e9124cd2f6e45c1', 'mode': 'active'}]}\n",
      "使用者抽牌: [[77, 1], [60, 2], [46, 1]]\n"
     ]
    },
    {
     "name": "stderr",
     "output_type": "stream",
     "text": [
      "127.0.0.1 - - [31/Mar/2024 15:35:42] \"POST / HTTP/1.1\" 200 -\n",
      "[2024-03-31 15:36:15,818] ERROR in app: Exception on / [POST]\n",
      "Traceback (most recent call last):\n",
      "  File \"C:\\Users\\hp\\anaconda3\\Lib\\site-packages\\flask\\app.py\", line 2525, in wsgi_app\n",
      "    response = self.full_dispatch_request()\n",
      "               ^^^^^^^^^^^^^^^^^^^^^^^^^^^^\n",
      "  File \"C:\\Users\\hp\\anaconda3\\Lib\\site-packages\\flask\\app.py\", line 1822, in full_dispatch_request\n",
      "    rv = self.handle_user_exception(e)\n",
      "         ^^^^^^^^^^^^^^^^^^^^^^^^^^^^^\n",
      "  File \"C:\\Users\\hp\\anaconda3\\Lib\\site-packages\\flask\\app.py\", line 1820, in full_dispatch_request\n",
      "    rv = self.dispatch_request()\n",
      "         ^^^^^^^^^^^^^^^^^^^^^^^\n",
      "  File \"C:\\Users\\hp\\anaconda3\\Lib\\site-packages\\flask\\app.py\", line 1796, in dispatch_request\n",
      "    return self.ensure_sync(self.view_functions[rule.endpoint])(**view_args)\n",
      "           ^^^^^^^^^^^^^^^^^^^^^^^^^^^^^^^^^^^^^^^^^^^^^^^^^^^^^^^^^^^^^^^^^\n",
      "  File \"C:\\Users\\hp\\AppData\\Local\\Temp\\ipykernel_636\\3094302790.py\", line 27, in fortune\n",
      "    TextSendMessage(text=card_data.iat[card_num,card_list[card_numbers.index(card_num)][1]]))\n",
      "                                                          ^^^^^^^^^^^^^^^^^^^^^^^^^^^^\n",
      "ValueError: 56 is not in list\n",
      "127.0.0.1 - - [31/Mar/2024 15:36:15] \"POST / HTTP/1.1\" 500 -\n"
     ]
    },
    {
     "name": "stdout",
     "output_type": "stream",
     "text": [
      "{'destination': 'Ud599aec203f3d52e84ab5ea488f2c69e', 'events': [{'type': 'postback', 'postback': {'data': '56'}, 'webhookEventId': '01HT9Q01T11WEG922NR873MN4H', 'deliveryContext': {'isRedelivery': False}, 'timestamp': 1711870575971, 'source': {'type': 'user', 'userId': 'U045e09b64fee492ed95edeab7c1481bd'}, 'replyToken': '538a7fb452214e068a0414b337635eb5', 'mode': 'active'}]}\n",
      "{'destination': 'Ud599aec203f3d52e84ab5ea488f2c69e', 'events': [{'type': 'postback', 'postback': {'data': '77'}, 'webhookEventId': '01HT9Q08MZ9TX0XDBM3ZBV1RXX', 'deliveryContext': {'isRedelivery': False}, 'timestamp': 1711870582953, 'source': {'type': 'user', 'userId': 'U045e09b64fee492ed95edeab7c1481bd'}, 'replyToken': '68e75c01b98d4f3d84c6469e3b7f7e0b', 'mode': 'active'}]}\n"
     ]
    },
    {
     "name": "stderr",
     "output_type": "stream",
     "text": [
      "127.0.0.1 - - [31/Mar/2024 15:36:23] \"POST / HTTP/1.1\" 200 -\n"
     ]
    }
   ],
   "source": [
    "from flask import Flask, request\n",
    "from linebot import LineBotApi\n",
    "from linebot.models import FlexSendMessage, TextSendMessage,TemplateSendMessage\n",
    "app = Flask(__name__)\n",
    "\n",
    "# LINE 聊天機器人的基本資料\n",
    "line_bot_api = LineBotApi('0MTwO+uLC9YQAIsSUu88agU/9o/MxFFa83qF0OPczd/ivnMam25adYe0lMDl7E+lTadbxeC3wYZbjPqTlZM1Ea3aP5kYuxIVTdHHpac8beN7ZA24XnGckQYWTi0Q4Ro9URFdR5lN4BGgM6Zc+W0D1wdB04t89/1O/w1cDnyilFU=')\n",
    "@app.route(\"/\", methods=['POST'])\n",
    "def fortune():\n",
    "    data = request.get_json()\n",
    "    print(data)\n",
    "    if len(data['events'])==0:#驗證模式events是空的\n",
    "        print(\"webhook驗證OK\")\n",
    "        return 'Verify OK',200\n",
    "    elif data['events'][0]['type']==\"message\" and len(data['events'])==1:#任何文字訊息皆發送啟動template\n",
    "        if data['events'][0]['message'][\"text\"]!=\"開始抽牌\":    \n",
    "            line_bot_api.reply_message(data['events'][0]['replyToken'],\n",
    "            TemplateSendMessage(alt_text=\"123\", template=start))\n",
    "    if data['events'][0]['type']==\"postback\":\n",
    "        if data['events'][0][\"postback\"][\"data\"]==\"抽牌\":#使用者點選抽牌\n",
    "            draw_cards()\n",
    "            line_bot_api.reply_message(data['events'][0]['replyToken'],\n",
    "            FlexSendMessage(alt_text=\"456\",contents=card))\n",
    "        else:#使用者點選觀看牌義\n",
    "            card_num=int(data['events'][0][\"postback\"][\"data\"])\n",
    "            line_bot_api.reply_message(data['events'][0]['replyToken'],\n",
    "            TextSendMessage(text=card_data.iat[card_num,card_list[card_numbers.index(card_num)][1]]))\n",
    "    return 'OK',200\n",
    "if __name__ == \"__main__\":\n",
    "    app.run(port=3000)#需與NGROK的通道阜相同"
   ]
  }
 ],
 "metadata": {
  "kernelspec": {
   "display_name": "Python 3 (ipykernel)",
   "language": "python",
   "name": "python3"
  },
  "language_info": {
   "codemirror_mode": {
    "name": "ipython",
    "version": 3
   },
   "file_extension": ".py",
   "mimetype": "text/x-python",
   "name": "python",
   "nbconvert_exporter": "python",
   "pygments_lexer": "ipython3",
   "version": "3.11.5"
  }
 },
 "nbformat": 4,
 "nbformat_minor": 5
}
